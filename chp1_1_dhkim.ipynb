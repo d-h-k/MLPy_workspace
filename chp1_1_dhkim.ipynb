{
  "nbformat": 4,
  "nbformat_minor": 0,
  "metadata": {
    "colab": {
      "name": "chp1_1_dhkim.ipynb",
      "version": "0.3.2",
      "provenance": [],
      "collapsed_sections": [],
      "include_colab_link": true
    },
    "kernelspec": {
      "name": "python3",
      "display_name": "Python 3"
    }
  },
  "cells": [
    {
      "cell_type": "markdown",
      "metadata": {
        "id": "view-in-github",
        "colab_type": "text"
      },
      "source": [
        "<a href=\"https://colab.research.google.com/github/d-h-k/MLPy_workspace/blob/master/chp1_1_dhkim.ipynb\" target=\"_parent\"><img src=\"https://colab.research.google.com/assets/colab-badge.svg\" alt=\"Open In Colab\"/></a>"
      ]
    },
    {
      "cell_type": "markdown",
      "metadata": {
        "id": "ipFCsquDMWWE",
        "colab_type": "text"
      },
      "source": [
        "# 31 - numpy example"
      ]
    },
    {
      "cell_type": "code",
      "metadata": {
        "id": "-f0DyYA5L9Fe",
        "colab_type": "code",
        "colab": {
          "base_uri": "https://localhost:8080/",
          "height": 69
        },
        "outputId": "2f1622bc-d76a-49ec-a0ac-1e0b6fe77b54"
      },
      "source": [
        "import numpy as np\n",
        "x = np.array([[1,2,3], [4,5,6]])\n",
        "print(\"x:\\n\",x)\n"
      ],
      "execution_count": 2,
      "outputs": [
        {
          "output_type": "stream",
          "text": [
            "x:\n",
            " [[1 2 3]\n",
            " [4 5 6]]\n"
          ],
          "name": "stdout"
        }
      ]
    },
    {
      "cell_type": "markdown",
      "metadata": {
        "id": "iILFf0IYMdd7",
        "colab_type": "text"
      },
      "source": [
        "# 32 - scipy example"
      ]
    },
    {
      "cell_type": "code",
      "metadata": {
        "id": "6GLaNLXlMPr4",
        "colab_type": "code",
        "colab": {
          "base_uri": "https://localhost:8080/",
          "height": 104
        },
        "outputId": "6b7a38e4-e78f-4475-a0a6-4e1cbb174526"
      },
      "source": [
        "from scipy import sparse\n",
        "\n",
        "eye = np.eye(4)\n",
        "print(\"Numpy array:\\n\", eye)\n"
      ],
      "execution_count": 3,
      "outputs": [
        {
          "output_type": "stream",
          "text": [
            "Numpy array:\n",
            " [[1. 0. 0. 0.]\n",
            " [0. 1. 0. 0.]\n",
            " [0. 0. 1. 0.]\n",
            " [0. 0. 0. 1.]]\n"
          ],
          "name": "stdout"
        }
      ]
    },
    {
      "cell_type": "code",
      "metadata": {
        "id": "k_CoTlHQMxhK",
        "colab_type": "code",
        "colab": {}
      },
      "source": [
        ""
      ],
      "execution_count": 0,
      "outputs": []
    }
  ]
}